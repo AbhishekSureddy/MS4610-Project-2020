{
 "cells": [
  {
   "cell_type": "markdown",
   "metadata": {},
   "source": [
    "# MS4610 Introduction to Data Analytics || Course Project \n",
    "### Model Selection and Hyperparameter Tuning\n",
    "Notebook by **Group 12**\n",
    "\n",
    "Using cleaned data, this notebook attempts to find the model that best predicts chances of payment default. We look at model performances without any feature engineering (baseline) and the same when sufficient feature engineering has been performed. The following operations have been performed:\n",
    "\n",
    "1. Baseline performance using gradient boosted models. "
   ]
  },
  {
   "cell_type": "code",
   "execution_count": 6,
   "metadata": {},
   "outputs": [],
   "source": [
    "# Data handling libraries\n",
    "\n",
    "import numpy as np\n",
    "import pandas as pd\n",
    "\n",
    "# Classifiers\n",
    "\n",
    "from xgboost import XGBClassifier\n",
    "from lightgbm import LGBMClassifier\n",
    "\n",
    "# Data preprocessing functions\n",
    "\n",
    "from sklearn.model_selection import train_test_split\n",
    "from sklearn.preprocessing import LabelEncoder\n",
    "\n",
    "# Evaluation metrics\n",
    "\n",
    "from sklearn.metrics import roc_auc_score \n",
    "from sklearn.metrics import classification_report\n",
    "from sklearn.model_selection import learning_curve\n",
    "\n",
    "# Plotting libraries\n",
    "\n",
    "import matplotlib.pyplot as plt"
   ]
  },
  {
   "cell_type": "code",
   "execution_count": 3,
   "metadata": {},
   "outputs": [],
   "source": [
    "# Import dataset\n",
    "\n",
    "train = pd.read_csv(\".././mod_data/train.csv\")"
   ]
  },
  {
   "cell_type": "markdown",
   "metadata": {},
   "source": [
    "## Useful Functions\n",
    "The functions below will be used to track the model's performance, which will assist us in hyperparameter tuning. The following functions are available:\n",
    "1. **learn_progress**: Plots trends of training and cross-validation score against %age data learned"
   ]
  },
  {
   "cell_type": "code",
   "execution_count": 17,
   "metadata": {},
   "outputs": [],
   "source": [
    "def learn_progress(model, X, y, res=5, scoring='roc_auc', cv=2):\n",
    "    \"\"\"\n",
    "    Plots learning curves for training and cross-validation for input model and dataset\n",
    "    as a function of fraction of data the model has trained on.\n",
    "    \n",
    "    :param model: (scikit-learn model-like) The model which is being trained on the data\n",
    "    :param X: (numpy array-like) Training features\n",
    "    :param y: (numpy array-like) Target values for prediction\n",
    "    :param res: (integer) Number of points on which progress is calculated (default = 5)\n",
    "    :param scoring: (scikit-learn SCORER string) Parameter indicating learning progress.\n",
    "                    Scorer options can be accessed using sklearn.metrics.SCORERS.keys()\n",
    "                    (default = 'roc_auc')\n",
    "    :param cv: Number of cross-validation folds (default = 2)\n",
    "    \n",
    "    :return:\n",
    "        Renders a matplotlib pyplot object of with line plots of training and validation \n",
    "        scores.\n",
    "    \"\"\"\n",
    "    train_sizes = np.linspace(0.1, 1, res)\n",
    "    _, train_scores, valid_scores = learning_curve(model, X, y, train_sizes=train_sizes,\n",
    "                                                   scoring=scoring, cv=cv)\n",
    "    \n",
    "    fig, ax = plt.subplots()\n",
    "    plt.grid()\n",
    "    \n",
    "    plt.plot(train_scores.mean(axis=1), marker='o', c='blue', alpha=0.7)\n",
    "    plt.plot(valid_scores.mean(axis=1), marker='o', c='red', alpha=0.7)\n",
    "    \n",
    "    plt.title('Learning progress')\n",
    "    plt.ylabel('Score')\n",
    "    plt.xlabel('Progress')\n",
    "    plt.xticks([i for i in range(res)], np.linspace(0.1, 1, res))\n",
    "    plt.legend(['Training score', 'Validation score'])\n",
    "\n",
    "    plt.show()"
   ]
  },
  {
   "cell_type": "markdown",
   "metadata": {},
   "source": [
    "## Baseline Model Performance\n",
    "In this section, we check the performance of **gradient boosted decision-tree models** on the dataset without any feature engineering or hyperparameter tuning. This will provide a benchmark to improve upon as we modify/generate/discard features from the dataset. The models below were chosen as they can internally handle missing values. The following models have been tested.\n",
    "1. XGBoost Classifier\n",
    "2. LightGBM Classifier"
   ]
  },
  {
   "cell_type": "code",
   "execution_count": 18,
   "metadata": {},
   "outputs": [
    {
     "name": "stdout",
     "output_type": "stream",
     "text": [
      "ROC-AUC Score: 0.7102340363028603\n",
      "\n",
      "              precision    recall  f1-score   support\n",
      "\n",
      "           0       0.84      0.78      0.81     11829\n",
      "           1       0.54      0.64      0.59      4771\n",
      "\n",
      "    accuracy                           0.74     16600\n",
      "   macro avg       0.69      0.71      0.70     16600\n",
      "weighted avg       0.76      0.74      0.75     16600\n",
      "\n"
     ]
    },
    {
     "data": {
      "image/png": "[encoded data removed]",
      "text/plain": [
       "<Figure size 432x288 with 1 Axes>"
      ]
     },
     "metadata": {
      "needs_background": "light"
     },
     "output_type": "display_data"
    }
   ],
   "source": [
    "# XGBoost Classifier\n",
    "\n",
    "# Label encoding card_type column\n",
    "le = LabelEncoder()\n",
    "train['card_type'] = le.fit_transform(train.card_type)\n",
    "\n",
    "# Features and target are defined\n",
    "y = train.default_ind.values\n",
    "X = train.drop(['application_key', 'default_ind'], axis=1).values\n",
    "\n",
    "# Split into train and evaluation sets (80-20 split)\n",
    "X_train, X_val, y_train, y_val = train_test_split(X, y, test_size=0.2, stratify=y, random_state=123)\n",
    "\n",
    "# Model definiton and training\n",
    "model = XGBClassifier(n_estimators=200,\n",
    "                      max_depth=4,\n",
    "                      learning_rate=0.03,\n",
    "                      objective='binary:logistic',\n",
    "                      scale_pos_weight=2,\n",
    "                      random_state=123)\n",
    "\n",
    "model.fit(X_train, y_train)\n",
    "\n",
    "# Prediction\n",
    "preds = model.predict(X_val)\n",
    "\n",
    "# Scoring\n",
    "score = roc_auc_score(y_val, preds)\n",
    "print(\"ROC-AUC Score (no CV): {}\".format(score))\n",
    "print('')\n",
    "print(classification_report(y_val, preds))\n",
    "\n",
    "# Show learning progress\n",
    "learn_progress(model, X, y, res=5, scoring='roc_auc', cv=2)"
   ]
  },
  {
   "cell_type": "code",
   "execution_count": 19,
   "metadata": {},
   "outputs": [
    {
     "name": "stdout",
     "output_type": "stream",
     "text": [
      "ROC-AUC Score (no CV): 0.7014957290059375\n",
      "\n",
      "              precision    recall  f1-score   support\n",
      "\n",
      "           0       0.83      0.81      0.82     11829\n",
      "           1       0.56      0.59      0.57      4771\n",
      "\n",
      "    accuracy                           0.75     16600\n",
      "   macro avg       0.70      0.70      0.70     16600\n",
      "weighted avg       0.75      0.75      0.75     16600\n",
      "\n"
     ]
    },
    {
     "data": {
      "image/png": "[encoded data removed]",
      "text/plain": [
       "<Figure size 432x288 with 1 Axes>"
      ]
     },
     "metadata": {
      "needs_background": "light"
     },
     "output_type": "display_data"
    }
   ],
   "source": [
    "# LightGBM Classifier\n",
    "\n",
    "# Label encoding card_type column\n",
    "le = LabelEncoder()\n",
    "train['card_type'] = le.fit_transform(train.card_type)\n",
    "\n",
    "# Features and target are defined\n",
    "y = train.default_ind.values\n",
    "X = train.drop(['application_key', 'default_ind'], axis=1).values\n",
    "\n",
    "# Split into train and evaluation sets (80-20 split)\n",
    "X_train, X_val, y_train, y_val = train_test_split(X, y, test_size=0.2, stratify=y, random_state=123)\n",
    "\n",
    "# Model definition and training\n",
    "model = LGBMClassifier(n_estimators=200,\n",
    "                       max_depth=4,\n",
    "                       learning_rate=0.01, \n",
    "                       objective='binary',\n",
    "                       scale_pos_weight=2,\n",
    "                       random_state=123)\n",
    "\n",
    "model.fit(X_train, y_train)\n",
    "\n",
    "# Prediction\n",
    "preds = model.predict(X_val)\n",
    "\n",
    "# Scoring\n",
    "score = roc_auc_score(y_val, preds)\n",
    "print(\"ROC-AUC Score (no CV): {}\".format(score))\n",
    "print('')\n",
    "print(classification_report(y_val, preds))\n",
    "\n",
    "# Show learning progress\n",
    "learn_progress(model, X, y, res=5, scoring='roc_auc', cv=2) "
   ]
  },
  {
   "cell_type": "code",
   "execution_count": null,
   "metadata": {},
   "outputs": [],
   "source": []
  }
 ],
 "metadata": {
  "kernelspec": {
   "display_name": "Python 3",
   "language": "python",
   "name": "python3"
  },
  "language_info": {
   "codemirror_mode": {
    "name": "ipython",
    "version": 3
   },
   "file_extension": ".py",
   "mimetype": "text/x-python",
   "name": "python",
   "nbconvert_exporter": "python",
   "pygments_lexer": "ipython3",
   "version": "3.6.8"
  }
 },
 "nbformat": 4,
 "nbformat_minor": 2
}
