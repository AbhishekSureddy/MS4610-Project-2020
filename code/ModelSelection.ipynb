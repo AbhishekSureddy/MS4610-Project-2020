{
 "cells": [
  {
   "cell_type": "markdown",
   "metadata": {},
   "source": [
    "# MS4610 Introduction to Data Analytics || Course Project \n",
    "### Model Selection and Hyperparameter Tuning\n",
    "Notebook by **Group 12**\n",
    "\n",
    "Using cleaned data, this notebook attempts to find the model that best predicts chances of payment default. We look at model performances without any feature engineering (baseline) and the same when sufficient feature engineering has been performed. The following operations have been performed:\n",
    "\n",
    "1. Baseline performance using gradient boosted models. "
   ]
  },
  {
   "cell_type": "code",
   "execution_count": 12,
   "metadata": {
    "scrolled": true
   },
   "outputs": [],
   "source": [
    "# Data and image handling libraries\n",
    "\n",
    "import numpy as np\n",
    "import pandas as pd\n",
    "from glob import glob\n",
    "import cv2\n",
    "\n",
    "# Classifiers\n",
    "\n",
    "from xgboost import XGBClassifier\n",
    "from lightgbm import LGBMClassifier\n",
    "from sklearn.ensemble import GradientBoostingClassifier\n",
    "from imblearn.ensemble import BalancedRandomForestClassifier\n",
    "import torch\n",
    "\n",
    "# Data preprocessing functions\n",
    "\n",
    "from sklearn.model_selection import train_test_split\n",
    "from sklearn.preprocessing import LabelEncoder\n",
    "from sklearn.preprocessing import StandardScaler\n",
    "\n",
    "# Evaluation metrics\n",
    "\n",
    "from sklearn.metrics import roc_auc_score \n",
    "from sklearn.metrics import classification_report\n",
    "from sklearn.model_selection import learning_curve\n",
    "from sklearn.model_selection import cross_val_score\n",
    "\n",
    "# Plotting libraries\n",
    "\n",
    "import matplotlib.pyplot as plt\n",
    "\n",
    "# Others\n",
    "\n",
    "from IPython.display import clear_output\n",
    "from warnings import filterwarnings\n",
    "filterwarnings('ignore')"
   ]
  },
  {
   "cell_type": "code",
   "execution_count": 20,
   "metadata": {},
   "outputs": [],
   "source": [
    "# Import dataset\n",
    "\n",
    "train = pd.read_csv(\".././mod_data/train.csv\")\n",
    "train_zero = pd.read_csv(\"/home/nishant/Desktop/IDA Project/mod_data/train_zero.csv\")\n",
    "train_mf = pd.read_csv(\"/home/nishant/Desktop/IDA Project/mod_data/train_mf.csv\")\n",
    "train_mf_res = pd.read_csv(\"/home/nishant/Desktop/IDA Project/mod_data/train_mf_res.csv\")"
   ]
  },
  {
   "cell_type": "markdown",
   "metadata": {},
   "source": [
    "## Useful Functions\n",
    "The functions below will be used to track the model's performance, which will assist us in hyperparameter tuning. The following functions are available:\n",
    "1. **learn_progress**: Plots trends of training and cross-validation score against %age data learned"
   ]
  },
  {
   "cell_type": "code",
   "execution_count": 4,
   "metadata": {},
   "outputs": [],
   "source": [
    "def learn_progress(model, X, y, res=5, scoring='roc_auc', cv=2):\n",
    "    \"\"\"\n",
    "    Plots learning curves for training and cross-validation for input model and dataset\n",
    "    as a function of fraction of data the model has trained on.\n",
    "    \n",
    "    :param model: (scikit-learn model-like) The model which is being trained on the data\n",
    "    :param X: (numpy array-like) Training features\n",
    "    :param y: (numpy array-like) Target values for prediction\n",
    "    :param res: (integer) Number of points on which progress is calculated (default = 5)\n",
    "    :param scoring: (scikit-learn SCORER string) Parameter indicating learning progress.\n",
    "                    Scorer options can be accessed using sklearn.metrics.SCORERS.keys()\n",
    "                    (default = 'roc_auc')\n",
    "    :param cv: Number of cross-validation folds (default = 2)\n",
    "    \n",
    "    :return:\n",
    "        Renders a matplotlib pyplot object of with line plots of training and validation \n",
    "        scores.\n",
    "    \"\"\"\n",
    "    train_sizes = np.linspace(0.1, 1, res)\n",
    "    _, train_scores, valid_scores = learning_curve(model, X, y, train_sizes=train_sizes,\n",
    "                                                   scoring=scoring, cv=cv)\n",
    "    \n",
    "    fig, ax = plt.subplots()\n",
    "    plt.grid()\n",
    "    \n",
    "    plt.plot(train_scores.mean(axis=1), marker='o', c='blue', alpha=0.7)\n",
    "    plt.plot(valid_scores.mean(axis=1), marker='o', c='red', alpha=0.7)\n",
    "    \n",
    "    plt.title('Learning progress')\n",
    "    plt.ylabel('Score')\n",
    "    plt.xlabel('Progress')\n",
    "    plt.xticks([i for i in range(res)], np.linspace(0.1, 1, res))\n",
    "    plt.legend(['Training score', 'Validation score'])\n",
    "\n",
    "    plt.show()\n",
    "    \n",
    "    print(\"Training CV score: {:.4f}\".format(train_scores.mean(axis=0)[1]))\n",
    "    print(\"Validation CV score: {:.4f}\".format(valid_scores.mean(axis=0)[1]))"
   ]
  },
  {
   "cell_type": "markdown",
   "metadata": {},
   "source": [
    "## Baseline Model Performance\n",
    "In this section, we check the performance of **gradient boosted decision-tree models** on the dataset without any feature engineering or hyperparameter tuning. This will provide a benchmark to improve upon as we modify/generate/discard features from the dataset. The models below were chosen as they can internally handle missing values. The following models have been tested.\n",
    "1. XGBoost Classifier\n",
    "2. LightGBM Classifier"
   ]
  },
  {
   "cell_type": "code",
   "execution_count": 21,
   "metadata": {},
   "outputs": [
    {
     "name": "stdout",
     "output_type": "stream",
     "text": [
      "ROC-AUC Score (no CV): 0.7138749467340612\n",
      "\n",
      "              precision    recall  f1-score   support\n",
      "\n",
      "           0       0.86      0.73      0.79     11829\n",
      "           1       0.51      0.70      0.59      4771\n",
      "\n",
      "    accuracy                           0.72     16600\n",
      "   macro avg       0.68      0.71      0.69     16600\n",
      "weighted avg       0.76      0.72      0.73     16600\n",
      "\n"
     ]
    },
    {
     "data": {
      "image/png": "[encoded data removed]",
      "text/plain": [
       "<Figure size 432x288 with 1 Axes>"
      ]
     },
     "metadata": {
      "needs_background": "light"
     },
     "output_type": "display_data"
    }
   ],
   "source": [
    "# XGBoost Classifier\n",
    "\n",
    "# Features and target are defined\n",
    "y = train.default_ind.values\n",
    "X = train.drop(['application_key', 'default_ind'], axis=1).values\n",
    "\n",
    "# Split into train and evaluation sets (80-20 split)\n",
    "X_train, X_val, y_train, y_val = train_test_split(X, y, test_size=0.2, stratify=y, random_state=123)\n",
    "\n",
    "# Model definiton and training\n",
    "model = XGBClassifier(n_estimators=200,\n",
    "                      max_depth=4,\n",
    "                      learning_rate=0.05,\n",
    "                      objective='binary:logistic',\n",
    "                      scale_pos_weight=2.4794,\n",
    "                      random_state=123)\n",
    "\n",
    "model.fit(X_train, y_train)\n",
    "\n",
    "# Prediction\n",
    "preds = model.predict(X_val)\n",
    "\n",
    "# Scoring\n",
    "score = roc_auc_score(y_val, preds)\n",
    "print(\"ROC-AUC Score (no CV): {}\".format(score))\n",
    "print('')\n",
    "print(classification_report(y_val, preds))\n",
    "\n",
    "# Show learning progress\n",
    "learn_progress(model, X, y, res=5, scoring='roc_auc', cv=2)"
   ]
  },
  {
   "cell_type": "code",
   "execution_count": 19,
   "metadata": {},
   "outputs": [
    {
     "name": "stdout",
     "output_type": "stream",
     "text": [
      "ROC-AUC Score (no CV): 0.7014957290059375\n",
      "\n",
      "              precision    recall  f1-score   support\n",
      "\n",
      "           0       0.83      0.81      0.82     11829\n",
      "           1       0.56      0.59      0.57      4771\n",
      "\n",
      "    accuracy                           0.75     16600\n",
      "   macro avg       0.70      0.70      0.70     16600\n",
      "weighted avg       0.75      0.75      0.75     16600\n",
      "\n"
     ]
    },
    {
     "data": {
      "image/png": "[encoded data removed]",
      "text/plain": [
       "<Figure size 432x288 with 1 Axes>"
      ]
     },
     "metadata": {
      "needs_background": "light"
     },
     "output_type": "display_data"
    }
   ],
   "source": [
    "# LightGBM Classifier\n",
    "\n",
    "# Features and target are defined\n",
    "y = train.default_ind.values\n",
    "X = train.drop(['application_key', 'default_ind'], axis=1).values\n",
    "\n",
    "# Split into train and evaluation sets (80-20 split)\n",
    "X_train, X_val, y_train, y_val = train_test_split(X, y, test_size=0.2, stratify=y, random_state=123)\n",
    "\n",
    "# Model definition and training\n",
    "model = LGBMClassifier(n_estimators=200,\n",
    "                       max_depth=4,\n",
    "                       learning_rate=0.05, \n",
    "                       objective='binary',\n",
    "                       scale_pos_weight=2.4794,\n",
    "                       random_state=123)\n",
    "\n",
    "model.fit(X_train, y_train)\n",
    "\n",
    "# Prediction\n",
    "preds = model.predict(X_val)\n",
    "\n",
    "# Scoring\n",
    "score = roc_auc_score(y_val, preds)\n",
    "print(\"ROC-AUC Score (no CV): {}\".format(score))\n",
    "print('')\n",
    "print(classification_report(y_val, preds))\n",
    "\n",
    "# Show learning progress\n",
    "learn_progress(model, X, y, res=5, scoring='roc_auc', cv=2) "
   ]
  },
  {
   "cell_type": "markdown",
   "metadata": {},
   "source": [
    "### On zero imputed datasets\n",
    "After imputation of datasets in `DataCleaning.ipynb` we will test the models above and see if any changes in performance are observed."
   ]
  },
  {
   "cell_type": "code",
   "execution_count": 6,
   "metadata": {},
   "outputs": [
    {
     "name": "stdout",
     "output_type": "stream",
     "text": [
      "ROC-AUC Score (no CV): 0.7150680148689939\n",
      "\n",
      "              precision    recall  f1-score   support\n",
      "\n",
      "         0.0       0.86      0.73      0.79     11805\n",
      "         1.0       0.51      0.70      0.59      4759\n",
      "\n",
      "    accuracy                           0.72     16564\n",
      "   macro avg       0.68      0.72      0.69     16564\n",
      "weighted avg       0.76      0.72      0.73     16564\n",
      "\n"
     ]
    },
    {
     "data": {
      "image/png": "[encoded data removed]",
      "text/plain": [
       "<Figure size 432x288 with 1 Axes>"
      ]
     },
     "metadata": {
      "needs_background": "light"
     },
     "output_type": "display_data"
    }
   ],
   "source": [
    "# XGBoost Classifier\n",
    "\n",
    "# Features and target are defined\n",
    "y = train.default_ind.values\n",
    "X = train.drop(['application_key', 'default_ind'], axis=1).values\n",
    "\n",
    "# Split into train and evaluation sets (80-20 split)\n",
    "X_train, X_val, y_train, y_val = train_test_split(X, y, test_size=0.2, stratify=y, random_state=123)\n",
    "\n",
    "# Model definiton and training\n",
    "model = XGBClassifier(n_estimators=200,\n",
    "                      max_depth=4,\n",
    "                      learning_rate=0.05,\n",
    "                      objective='binary:logistic',\n",
    "                      scale_pos_weight=2.4794,\n",
    "                      random_state=123)\n",
    "\n",
    "model.fit(X_train, y_train)\n",
    "\n",
    "# Prediction\n",
    "preds = model.predict(X_val)\n",
    "\n",
    "# Scoring\n",
    "score = roc_auc_score(y_val, preds)\n",
    "print(\"ROC-AUC Score (no CV): {}\".format(score))\n",
    "print('')\n",
    "print(classification_report(y_val, preds))\n",
    "\n",
    "# Show learning progress\n",
    "learn_progress(model, X, y, res=5, scoring='roc_auc', cv=2)"
   ]
  },
  {
   "cell_type": "markdown",
   "metadata": {},
   "source": [
    "### On missing forest imputed dataset\n",
    "We expected somewhat better performance on missing forest imputed data."
   ]
  },
  {
   "cell_type": "code",
   "execution_count": 11,
   "metadata": {},
   "outputs": [
    {
     "name": "stdout",
     "output_type": "stream",
     "text": [
      "ROC-AUC Score (no CV): 0.7111619764197022\n",
      "\n",
      "              precision    recall  f1-score   support\n",
      "\n",
      "         0.0       0.85      0.74      0.79     11753\n",
      "         1.0       0.51      0.68      0.59      4740\n",
      "\n",
      "    accuracy                           0.72     16493\n",
      "   macro avg       0.68      0.71      0.69     16493\n",
      "weighted avg       0.76      0.72      0.73     16493\n",
      "\n"
     ]
    },
    {
     "data": {
      "image/png": "[encoded data removed]",
      "text/plain": [
       "<Figure size 432x288 with 1 Axes>"
      ]
     },
     "metadata": {
      "needs_background": "light"
     },
     "output_type": "display_data"
    },
    {
     "name": "stdout",
     "output_type": "stream",
     "text": [
      "Training CV score: 0.8772\n",
      "Validation CV score: 0.7817\n"
     ]
    }
   ],
   "source": [
    "# XGBoost Classifier\n",
    "\n",
    "# Features and target are defined\n",
    "y = train_mf.default_ind.values\n",
    "X = train_mf.drop(['application_key', 'default_ind'], axis=1).values\n",
    "\n",
    "# Split into train and evaluation sets (80-20 split)\n",
    "X_train, X_val, y_train, y_val = train_test_split(X, y, test_size=0.2, stratify=y, random_state=123)\n",
    "\n",
    "# Model definiton and training\n",
    "model = XGBClassifier(n_estimators=300,\n",
    "                      max_depth=5,\n",
    "                      learning_rate=0.05,\n",
    "                      objective='binary:logistic',\n",
    "                      scale_pos_weight=2.4794,\n",
    "                      random_state=123)\n",
    "\n",
    "model.fit(X_train, y_train)\n",
    "\n",
    "# Prediction\n",
    "preds = model.predict(X_val)\n",
    "\n",
    "# Scoring\n",
    "score = roc_auc_score(y_val, preds)\n",
    "print(\"ROC-AUC Score (no CV): {}\".format(score))\n",
    "print('')\n",
    "print(classification_report(y_val, preds))\n",
    "\n",
    "# Show learning progress\n",
    "learn_progress(model, X, y, res=5, scoring='roc_auc', cv=2)"
   ]
  },
  {
   "cell_type": "code",
   "execution_count": 10,
   "metadata": {},
   "outputs": [
    {
     "name": "stdout",
     "output_type": "stream",
     "text": [
      "ROC-AUC Score (no CV): 0.6635315303283729\n",
      "\n",
      "              precision    recall  f1-score   support\n",
      "\n",
      "         0.0       0.79      0.91      0.85     11753\n",
      "         1.0       0.66      0.41      0.51      4740\n",
      "\n",
      "    accuracy                           0.77     16493\n",
      "   macro avg       0.73      0.66      0.68     16493\n",
      "weighted avg       0.76      0.77      0.75     16493\n",
      "\n"
     ]
    },
    {
     "data": {
      "image/png": "[encoded data removed]",
      "text/plain": [
       "<Figure size 432x288 with 1 Axes>"
      ]
     },
     "metadata": {
      "needs_background": "light"
     },
     "output_type": "display_data"
    },
    {
     "name": "stdout",
     "output_type": "stream",
     "text": [
      "Training CV score: 0.8361\n",
      "Validation CV score: 0.7833\n"
     ]
    }
   ],
   "source": [
    "# Gradient Boosting classifier\n",
    "\n",
    "# Features and target are defined\n",
    "y = train_mf.default_ind.values\n",
    "X = train_mf.drop(['application_key', 'default_ind'], axis=1).values\n",
    "\n",
    "# Split into train and evaluation sets (80-20 split)\n",
    "X_train, X_val, y_train, y_val = train_test_split(X, y, test_size=0.2, stratify=y, random_state=123)\n",
    "\n",
    "# Model definiton and training\n",
    "model = GradientBoostingClassifier(n_estimators=200)\n",
    "model.fit(X_train, y_train)\n",
    "\n",
    "# Prediction\n",
    "preds = model.predict(X_val)\n",
    "\n",
    "# Scoring\n",
    "score = roc_auc_score(y_val, preds)\n",
    "print(\"ROC-AUC Score (no CV): {}\".format(score))\n",
    "print('')\n",
    "print(classification_report(y_val, preds))\n",
    "\n",
    "# Show learning progress\n",
    "learn_progress(model, X, y, res=5, scoring='roc_auc', cv=2)"
   ]
  },
  {
   "cell_type": "markdown",
   "metadata": {},
   "source": [
    "### On SMOTE resampled dataset\n",
    "\n",
    "**UPDATED: 30th October, 2019**\n",
    "\n",
    "Performance of XGBoost and LightGBM on SMOTE resampled dataset. The resampling has improved their performance significantly."
   ]
  },
  {
   "cell_type": "code",
   "execution_count": 23,
   "metadata": {},
   "outputs": [
    {
     "name": "stdout",
     "output_type": "stream",
     "text": [
      "ROC-AUC Score (no CV): 0.8409807966515588\n",
      "\n",
      "              precision    recall  f1-score   support\n",
      "\n",
      "         0.0       0.80      0.91      0.85     11754\n",
      "         1.0       0.89      0.78      0.83     11753\n",
      "\n",
      "    accuracy                           0.84     23507\n",
      "   macro avg       0.85      0.84      0.84     23507\n",
      "weighted avg       0.85      0.84      0.84     23507\n",
      "\n"
     ]
    },
    {
     "data": {
      "image/png": "[encoded data removed]",
      "text/plain": [
       "<Figure size 432x288 with 1 Axes>"
      ]
     },
     "metadata": {
      "needs_background": "light"
     },
     "output_type": "display_data"
    },
    {
     "name": "stdout",
     "output_type": "stream",
     "text": [
      "Training CV score: 0.9475\n",
      "Validation CV score: 0.9054\n"
     ]
    }
   ],
   "source": [
    "# XGBoost Classifier\n",
    "\n",
    "# Features and target are defined\n",
    "y = train_mf_res.default_ind.values\n",
    "X = train_mf_res.drop(['application_key', 'default_ind'], axis=1).values\n",
    "\n",
    "# Split into train and evaluation sets (80-20 split)\n",
    "X_train, X_val, y_train, y_val = train_test_split(X, y, test_size=0.2, stratify=y, random_state=123)\n",
    "\n",
    "# Model definiton and training\n",
    "model = XGBClassifier(n_estimators=300,\n",
    "                      max_depth=5,\n",
    "                      learning_rate=0.05,\n",
    "                      objective='binary:logistic',\n",
    "                      random_state=123)\n",
    "\n",
    "model.fit(X_train, y_train)\n",
    "\n",
    "# Prediction\n",
    "preds = model.predict(X_val)\n",
    "\n",
    "# Scoring\n",
    "score = roc_auc_score(y_val, preds)\n",
    "print(\"ROC-AUC Score (no CV): {}\".format(score))\n",
    "print('')\n",
    "print(classification_report(y_val, preds))\n",
    "\n",
    "# Show learning progress\n",
    "learn_progress(model, X, y, res=5, scoring='roc_auc', cv=2)"
   ]
  },
  {
   "cell_type": "code",
   "execution_count": 24,
   "metadata": {},
   "outputs": [
    {
     "name": "stdout",
     "output_type": "stream",
     "text": [
      "ROC-AUC Score (no CV): 0.8414912249803579\n",
      "\n",
      "              precision    recall  f1-score   support\n",
      "\n",
      "         0.0       0.80      0.91      0.85     11754\n",
      "         1.0       0.89      0.78      0.83     11753\n",
      "\n",
      "    accuracy                           0.84     23507\n",
      "   macro avg       0.85      0.84      0.84     23507\n",
      "weighted avg       0.85      0.84      0.84     23507\n",
      "\n"
     ]
    },
    {
     "data": {
      "image/png": "[encoded data removed]",
      "text/plain": [
       "<Figure size 432x288 with 1 Axes>"
      ]
     },
     "metadata": {
      "needs_background": "light"
     },
     "output_type": "display_data"
    },
    {
     "name": "stdout",
     "output_type": "stream",
     "text": [
      "Training CV score: 0.9478\n",
      "Validation CV score: 0.9058\n"
     ]
    }
   ],
   "source": [
    "# LightGBM Classifier\n",
    "\n",
    "# Features and target are defined\n",
    "y = train_mf_res.default_ind.values\n",
    "X = train_mf_res.drop(['application_key', 'default_ind'], axis=1).values\n",
    "\n",
    "# Split into train and evaluation sets (80-20 split)\n",
    "X_train, X_val, y_train, y_val = train_test_split(X, y, test_size=0.2, stratify=y, random_state=123)\n",
    "\n",
    "# Model definition and training\n",
    "model = LGBMClassifier(n_estimators=300,\n",
    "                       max_depth=5,\n",
    "                       learning_rate=0.05, \n",
    "                       objective='binary',\n",
    "                       random_state=123)\n",
    "\n",
    "model.fit(X_train, y_train)\n",
    "\n",
    "# Prediction\n",
    "preds = model.predict(X_val)\n",
    "\n",
    "# Scoring\n",
    "score = roc_auc_score(y_val, preds)\n",
    "print(\"ROC-AUC Score (no CV): {}\".format(score))\n",
    "print('')\n",
    "print(classification_report(y_val, preds))\n",
    "\n",
    "# Show learning progress\n",
    "learn_progress(model, X, y, res=5, scoring='roc_auc', cv=2) "
   ]
  },
  {
   "cell_type": "code",
   "execution_count": null,
   "metadata": {},
   "outputs": [
    {
     "name": "stdout",
     "output_type": "stream",
     "text": [
      "ROC-AUC Score (no CV): 0.8399598567479525\n",
      "\n",
      "              precision    recall  f1-score   support\n",
      "\n",
      "         0.0       0.80      0.90      0.85     11754\n",
      "         1.0       0.89      0.78      0.83     11753\n",
      "\n",
      "    accuracy                           0.84     23507\n",
      "   macro avg       0.85      0.84      0.84     23507\n",
      "weighted avg       0.85      0.84      0.84     23507\n",
      "\n"
     ]
    }
   ],
   "source": [
    "# Gradient Boosting classifier\n",
    "\n",
    "# Features and target are defined\n",
    "y = train_mf_res.default_ind.values\n",
    "X = train_mf_res.drop(['application_key', 'default_ind'], axis=1).values\n",
    "\n",
    "# Split into train and evaluation sets (80-20 split)\n",
    "X_train, X_val, y_train, y_val = train_test_split(X, y, test_size=0.2, stratify=y, random_state=123)\n",
    "\n",
    "# Model definiton and training\n",
    "model = GradientBoostingClassifier(n_estimators=300)\n",
    "model.fit(X_train, y_train)\n",
    "\n",
    "# Prediction\n",
    "preds = model.predict(X_val)\n",
    "\n",
    "# Scoring\n",
    "score = roc_auc_score(y_val, preds)\n",
    "print(\"ROC-AUC Score (no CV): {}\".format(score))\n",
    "print('')\n",
    "print(classification_report(y_val, preds))\n",
    "\n",
    "# Show learning progress\n",
    "learn_progress(model, X, y, res=5, scoring='roc_auc', cv=2)"
   ]
  },
  {
   "cell_type": "markdown",
   "metadata": {},
   "source": [
    "## ANN with Entity Embeddings\n",
    "\n",
    "**UPDATED: 30th October, 2019**\n",
    "\n",
    "Neural networks are famous for being able to generate non-linear relations between features on their own, thus mitigating the need for feature engineering. However, they can only find such relations with continuous data and are unable to deal with categorical variables. To work around this difficulty, the idea of **Entity Embeddings** was drawn from the field of Natural Language Processing (corresponding concept being **word embeddings**). Using this transformation, a categorical variable is projected into a multi-dimensional space; categorical values resulting in the same target output are clustered together. **We are using the resampled, miss forest imputed dataset here.**\n",
    "\n",
    "Please check out the original work by Prof Yoshua Bengio et al [here](https://www.aaai.org/ocs/index.php/AAAI/AAAI11/paper/view/3659/3898) and [here](https://arxiv.org/pdf/1604.06737.pdf)."
   ]
  },
  {
   "cell_type": "code",
   "execution_count": 27,
   "metadata": {},
   "outputs": [
    {
     "name": "stdout",
     "output_type": "stream",
     "text": [
      "[INFO] Generating embeddings\n",
      "Epoch 1/1\n",
      "117534/117534 [==============================] - 23s 192us/step - loss: 0.5856 - binary_accuracy: 0.7541\n",
      "\n",
      "[INFO] Training model\n",
      "Epoch 1/5\n",
      "117534/117534 [==============================] - 3s 24us/step - loss: 0.3881 - binary_accuracy: 0.8135\n",
      "Epoch 2/5\n",
      "117534/117534 [==============================] - 2s 21us/step - loss: 0.3682 - binary_accuracy: 0.8230\n",
      "Epoch 3/5\n",
      "117534/117534 [==============================] - 3s 21us/step - loss: 0.3665 - binary_accuracy: 0.8247\n",
      "Epoch 4/5\n",
      "117534/117534 [==============================] - 2s 21us/step - loss: 0.3651 - binary_accuracy: 0.8250\n",
      "Epoch 5/5\n",
      "117534/117534 [==============================] - 3s 23us/step - loss: 0.3640 - binary_accuracy: 0.8257\n",
      "\n",
      "AUC Score: 0.8243\n",
      "\n",
      "              precision    recall  f1-score   support\n",
      "\n",
      "           0       0.78      0.91      0.84     11753\n",
      "           1       0.89      0.74      0.81     11754\n",
      "\n",
      "    accuracy                           0.82     23507\n",
      "   macro avg       0.83      0.82      0.82     23507\n",
      "weighted avg       0.83      0.82      0.82     23507\n",
      "\n"
     ]
    }
   ],
   "source": [
    "# Dependencies\n",
    "\n",
    "import tensorflow as tf\n",
    "from keras.models import Sequential\n",
    "from keras.layers import Dense, Dropout, Flatten\n",
    "from keras.utils import to_categorical\n",
    "from keras.layers.embeddings import Embedding\n",
    "\n",
    "# Load data\n",
    "train_mf = pd.read_csv(\"/home/nishant/Desktop/IDA Project/mod_data/train_mf_res.csv\")\n",
    "\n",
    "\n",
    "# EMBEDDING FOR LOCATION ID ================================================================================\n",
    "\n",
    "labels = train_mf.default_ind.values\n",
    "\n",
    "le = LabelEncoder()\n",
    "train_mf['location_id'] = le.fit_transform(train_mf.location_id)\n",
    "\n",
    "vocab_size = train_mf.location_id.nunique()\n",
    "max_length = 1\n",
    "embed_vec_size = 36\n",
    "loc_id = train_mf.location_id.values\n",
    "\n",
    "# Define model\n",
    "print('[INFO] Generating embeddings')\n",
    "model = Sequential()\n",
    "model.add(Embedding(vocab_size, embed_vec_size, input_length=max_length))\n",
    "model.add(Flatten())\n",
    "model.add(Dense(1, activation='sigmoid'))\n",
    "\n",
    "model.compile(optimizer='adam', loss='binary_crossentropy', metrics=['binary_accuracy'])\n",
    "model.fit(loc_id, labels, epochs=1, batch_size=100)\n",
    "\n",
    "# Get outputs of first layer\n",
    "new_model = Sequential()\n",
    "new_model.add(Embedding(vocab_size, embed_vec_size, input_length=max_length))\n",
    "\n",
    "new_model.set_weights(model.layers[0].get_weights())\n",
    "new_model.compile(optimizer='adam', loss='binary_crossentropy')\n",
    "\n",
    "preds = new_model.predict(loc_id).reshape(-1, embed_vec_size)\n",
    "embed_cols = ['loc_emb'+str(i) for i in range(preds.shape[1])]\n",
    "loc_embed_df = pd.DataFrame(preds, columns=embed_cols)\n",
    "\n",
    "# =============================================================================================================\n",
    "\n",
    "# Scaling numerical columns of X\n",
    "ss = StandardScaler()\n",
    "non_num_cols = ['application_key', 'card_type', 'location_id', 'default_ind']\n",
    "X_sc = ss.fit_transform(train_mf.drop(non_num_cols, axis=1).values)\n",
    "\n",
    "X_df = pd.DataFrame(X_sc)\n",
    "X_df['card_type'] = train_mf.card_type.values\n",
    "X_df = pd.concat([X_df, loc_embed_df], axis=1)\n",
    "\n",
    "y = to_categorical(train_mf.default_ind.values)\n",
    "X = X_df.values\n",
    "\n",
    "rows, cols = X.shape[0], X.shape[1]\n",
    "\n",
    "# Defining prediction model\n",
    "print('')\n",
    "print('[INFO] Training model')\n",
    "model = Sequential()\n",
    "model.add(Dense(64, activation='relu', input_dim=cols))\n",
    "model.add(Dense(128, activation='relu'))\n",
    "model.add(Dense(64, activation='relu'))\n",
    "model.add(Dense(32, activation='relu'))\n",
    "model.add(Dense(16, activation='relu'))\n",
    "model.add(Dense(2, activation='softmax'))\n",
    "\n",
    "# Train test split\n",
    "X_train, X_val, y_train, y_val = train_test_split(X, y, test_size=0.2, stratify=y, random_state=123)\n",
    "\n",
    "model.compile(loss='binary_crossentropy', optimizer='adam', metrics=['binary_accuracy'])\n",
    "model.fit(X, y, epochs=5, batch_size=100)\n",
    "\n",
    "# Predictions\n",
    "preds = []\n",
    "probs = model.predict(X_val)\n",
    "for i in probs:\n",
    "    preds.append(np.argmax(i))\n",
    "\n",
    "y_val_preds = []\n",
    "for i in y_val:\n",
    "    y_val_preds.append(np.argmax(i))\n",
    "\n",
    "preds = np.array(preds).reshape((-1, 1))\n",
    "y_val_preds = np.array(y_val_preds).reshape((-1, 1))\n",
    "\n",
    "score = roc_auc_score(y_val_preds, preds)\n",
    "print('')\n",
    "print(\"AUC Score: {:.4f}\".format(score))\n",
    "print('')\n",
    "print(classification_report(y_val_preds, preds))"
   ]
  },
  {
   "cell_type": "code",
   "execution_count": null,
   "metadata": {},
   "outputs": [],
   "source": []
  }
 ],
 "metadata": {
  "kernelspec": {
   "display_name": "Python 3",
   "language": "python",
   "name": "python3"
  },
  "language_info": {
   "codemirror_mode": {
    "name": "ipython",
    "version": 3
   },
   "file_extension": ".py",
   "mimetype": "text/x-python",
   "name": "python",
   "nbconvert_exporter": "python",
   "pygments_lexer": "ipython3",
   "version": "3.6.8"
  }
 },
 "nbformat": 4,
 "nbformat_minor": 2
}
