{
 "cells": [
  {
   "cell_type": "markdown",
   "metadata": {},
   "source": [
    "# MS4610 Introduction to Data Analytics || Course Project \n",
    "### Model Selection and Hyperparameter Tuning\n",
    "Notebook by **Group 12**\n",
    "\n",
    "Using cleaned data, this notebook attempts to find the model that best predicts chances of payment default. We look at model performances without any feature engineering (baseline) and the same when sufficient feature engineering has been performed. The following operations have been performed:\n",
    "\n",
    "1. Baseline performance using gradient boosted models. "
   ]
  },
  {
   "cell_type": "code",
   "execution_count": 1,
   "metadata": {},
   "outputs": [],
   "source": [
    "# Data and image handling libraries\n",
    "\n",
    "import numpy as np\n",
    "import pandas as pd\n",
    "from glob import glob\n",
    "import cv2\n",
    "\n",
    "# Classifiers\n",
    "\n",
    "from xgboost import XGBClassifier\n",
    "from lightgbm import LGBMClassifier\n",
    "import torch\n",
    "\n",
    "# Data preprocessing functions\n",
    "\n",
    "from sklearn.model_selection import train_test_split\n",
    "from sklearn.preprocessing import LabelEncoder\n",
    "\n",
    "# Evaluation metrics\n",
    "\n",
    "from sklearn.metrics import roc_auc_score \n",
    "from sklearn.metrics import classification_report\n",
    "from sklearn.model_selection import learning_curve\n",
    "\n",
    "# Plotting libraries\n",
    "\n",
    "import matplotlib.pyplot as plt\n",
    "\n",
    "# Others\n",
    "\n",
    "from IPython.display import clear_output"
   ]
  },
  {
   "cell_type": "code",
   "execution_count": 2,
   "metadata": {},
   "outputs": [],
   "source": [
    "# Import dataset\n",
    "\n",
    "train = pd.read_csv(\".././mod_data/train.csv\")\n",
    "train_zero = pd.read_csv(\"/home/nishant/Desktop/IDA Project/mod_data/train_zero.csv\")\n",
    "train_mf = pd.read_csv(\"/home/nishant/Desktop/IDA Project/mod_data/train_mf.csv\")"
   ]
  },
  {
   "cell_type": "markdown",
   "metadata": {},
   "source": [
    "## Useful Functions\n",
    "The functions below will be used to track the model's performance, which will assist us in hyperparameter tuning. The following functions are available:\n",
    "1. **learn_progress**: Plots trends of training and cross-validation score against %age data learned"
   ]
  },
  {
   "cell_type": "code",
   "execution_count": 13,
   "metadata": {},
   "outputs": [],
   "source": [
    "def learn_progress(model, X, y, res=5, scoring='roc_auc', cv=2):\n",
    "    \"\"\"\n",
    "    Plots learning curves for training and cross-validation for input model and dataset\n",
    "    as a function of fraction of data the model has trained on.\n",
    "    \n",
    "    :param model: (scikit-learn model-like) The model which is being trained on the data\n",
    "    :param X: (numpy array-like) Training features\n",
    "    :param y: (numpy array-like) Target values for prediction\n",
    "    :param res: (integer) Number of points on which progress is calculated (default = 5)\n",
    "    :param scoring: (scikit-learn SCORER string) Parameter indicating learning progress.\n",
    "                    Scorer options can be accessed using sklearn.metrics.SCORERS.keys()\n",
    "                    (default = 'roc_auc')\n",
    "    :param cv: Number of cross-validation folds (default = 2)\n",
    "    \n",
    "    :return:\n",
    "        Renders a matplotlib pyplot object of with line plots of training and validation \n",
    "        scores.\n",
    "    \"\"\"\n",
    "    train_sizes = np.linspace(0.1, 1, res)\n",
    "    _, train_scores, valid_scores = learning_curve(model, X, y, train_sizes=train_sizes,\n",
    "                                                   scoring=scoring, cv=cv)\n",
    "    \n",
    "    fig, ax = plt.subplots()\n",
    "    plt.grid()\n",
    "    \n",
    "    plt.plot(train_scores.mean(axis=1), marker='o', c='blue', alpha=0.7)\n",
    "    plt.plot(valid_scores.mean(axis=1), marker='o', c='red', alpha=0.7)\n",
    "    \n",
    "    plt.title('Learning progress')\n",
    "    plt.ylabel('Score')\n",
    "    plt.xlabel('Progress')\n",
    "    plt.xticks([i for i in range(res)], np.linspace(0.1, 1, res))\n",
    "    plt.legend(['Training score', 'Validation score'])\n",
    "\n",
    "    plt.show()\n",
    "    \n",
    "    print(\"Training CV score: {:.4f}\".format(train_scores.mean(axis=1)[0]))\n",
    "    print(\"Validation CV score: {:.4f}\".format(valid_scores.mean(axis=1)[0]))"
   ]
  },
  {
   "cell_type": "markdown",
   "metadata": {},
   "source": [
    "## Baseline Model Performance\n",
    "In this section, we check the performance of **gradient boosted decision-tree models** on the dataset without any feature engineering or hyperparameter tuning. This will provide a benchmark to improve upon as we modify/generate/discard features from the dataset. The models below were chosen as they can internally handle missing values. The following models have been tested.\n",
    "1. XGBoost Classifier\n",
    "2. LightGBM Classifier"
   ]
  },
  {
   "cell_type": "code",
   "execution_count": 21,
   "metadata": {},
   "outputs": [
    {
     "name": "stdout",
     "output_type": "stream",
     "text": [
      "ROC-AUC Score (no CV): 0.7138749467340612\n",
      "\n",
      "              precision    recall  f1-score   support\n",
      "\n",
      "           0       0.86      0.73      0.79     11829\n",
      "           1       0.51      0.70      0.59      4771\n",
      "\n",
      "    accuracy                           0.72     16600\n",
      "   macro avg       0.68      0.71      0.69     16600\n",
      "weighted avg       0.76      0.72      0.73     16600\n",
      "\n"
     ]
    },
    {
     "data": {
      "image/png": "[encoded data removed]",
      "text/plain": [
       "<Figure size 432x288 with 1 Axes>"
      ]
     },
     "metadata": {
      "needs_background": "light"
     },
     "output_type": "display_data"
    }
   ],
   "source": [
    "# XGBoost Classifier\n",
    "\n",
    "# Features and target are defined\n",
    "y = train.default_ind.values\n",
    "X = train.drop(['application_key', 'default_ind'], axis=1).values\n",
    "\n",
    "# Split into train and evaluation sets (80-20 split)\n",
    "X_train, X_val, y_train, y_val = train_test_split(X, y, test_size=0.2, stratify=y, random_state=123)\n",
    "\n",
    "# Model definiton and training\n",
    "model = XGBClassifier(n_estimators=200,\n",
    "                      max_depth=4,\n",
    "                      learning_rate=0.05,\n",
    "                      objective='binary:logistic',\n",
    "                      scale_pos_weight=2.4794,\n",
    "                      random_state=123)\n",
    "\n",
    "model.fit(X_train, y_train)\n",
    "\n",
    "# Prediction\n",
    "preds = model.predict(X_val)\n",
    "\n",
    "# Scoring\n",
    "score = roc_auc_score(y_val, preds)\n",
    "print(\"ROC-AUC Score (no CV): {}\".format(score))\n",
    "print('')\n",
    "print(classification_report(y_val, preds))\n",
    "\n",
    "# Show learning progress\n",
    "learn_progress(model, X, y, res=5, scoring='roc_auc', cv=2)"
   ]
  },
  {
   "cell_type": "code",
   "execution_count": 19,
   "metadata": {},
   "outputs": [
    {
     "name": "stdout",
     "output_type": "stream",
     "text": [
      "ROC-AUC Score (no CV): 0.7014957290059375\n",
      "\n",
      "              precision    recall  f1-score   support\n",
      "\n",
      "           0       0.83      0.81      0.82     11829\n",
      "           1       0.56      0.59      0.57      4771\n",
      "\n",
      "    accuracy                           0.75     16600\n",
      "   macro avg       0.70      0.70      0.70     16600\n",
      "weighted avg       0.75      0.75      0.75     16600\n",
      "\n"
     ]
    },
    {
     "data": {
      "image/png": "[encoded data removed]",
      "text/plain": [
       "<Figure size 432x288 with 1 Axes>"
      ]
     },
     "metadata": {
      "needs_background": "light"
     },
     "output_type": "display_data"
    }
   ],
   "source": [
    "# LightGBM Classifier\n",
    "\n",
    "# Features and target are defined\n",
    "y = train.default_ind.values\n",
    "X = train.drop(['application_key', 'default_ind'], axis=1).values\n",
    "\n",
    "# Split into train and evaluation sets (80-20 split)\n",
    "X_train, X_val, y_train, y_val = train_test_split(X, y, test_size=0.2, stratify=y, random_state=123)\n",
    "\n",
    "# Model definition and training\n",
    "model = LGBMClassifier(n_estimators=200,\n",
    "                       max_depth=4,\n",
    "                       learning_rate=0.05, \n",
    "                       objective='binary',\n",
    "                       scale_pos_weight=2.4794,\n",
    "                       random_state=123)\n",
    "\n",
    "model.fit(X_train, y_train)\n",
    "\n",
    "# Prediction\n",
    "preds = model.predict(X_val)\n",
    "\n",
    "# Scoring\n",
    "score = roc_auc_score(y_val, preds)\n",
    "print(\"ROC-AUC Score (no CV): {}\".format(score))\n",
    "print('')\n",
    "print(classification_report(y_val, preds))\n",
    "\n",
    "# Show learning progress\n",
    "learn_progress(model, X, y, res=5, scoring='roc_auc', cv=2) "
   ]
  },
  {
   "cell_type": "markdown",
   "metadata": {},
   "source": [
    "### On zero imputed datasets\n",
    "After imputation of datasets in `DataCleaning.ipynb` we will test the models above and see if any changes in performance are observed."
   ]
  },
  {
   "cell_type": "code",
   "execution_count": 6,
   "metadata": {},
   "outputs": [
    {
     "name": "stdout",
     "output_type": "stream",
     "text": [
      "ROC-AUC Score (no CV): 0.7150680148689939\n",
      "\n",
      "              precision    recall  f1-score   support\n",
      "\n",
      "         0.0       0.86      0.73      0.79     11805\n",
      "         1.0       0.51      0.70      0.59      4759\n",
      "\n",
      "    accuracy                           0.72     16564\n",
      "   macro avg       0.68      0.72      0.69     16564\n",
      "weighted avg       0.76      0.72      0.73     16564\n",
      "\n"
     ]
    },
    {
     "data": {
      "image/png": "[encoded data removed]",
      "text/plain": [
       "<Figure size 432x288 with 1 Axes>"
      ]
     },
     "metadata": {
      "needs_background": "light"
     },
     "output_type": "display_data"
    }
   ],
   "source": [
    "# XGBoost Classifier\n",
    "\n",
    "# Features and target are defined\n",
    "y = train.default_ind.values\n",
    "X = train.drop(['application_key', 'default_ind'], axis=1).values\n",
    "\n",
    "# Split into train and evaluation sets (80-20 split)\n",
    "X_train, X_val, y_train, y_val = train_test_split(X, y, test_size=0.2, stratify=y, random_state=123)\n",
    "\n",
    "# Model definiton and training\n",
    "model = XGBClassifier(n_estimators=200,\n",
    "                      max_depth=4,\n",
    "                      learning_rate=0.05,\n",
    "                      objective='binary:logistic',\n",
    "                      scale_pos_weight=2.4794,\n",
    "                      random_state=123)\n",
    "\n",
    "model.fit(X_train, y_train)\n",
    "\n",
    "# Prediction\n",
    "preds = model.predict(X_val)\n",
    "\n",
    "# Scoring\n",
    "score = roc_auc_score(y_val, preds)\n",
    "print(\"ROC-AUC Score (no CV): {}\".format(score))\n",
    "print('')\n",
    "print(classification_report(y_val, preds))\n",
    "\n",
    "# Show learning progress\n",
    "learn_progress(model, X, y, res=5, scoring='roc_auc', cv=2)"
   ]
  },
  {
   "cell_type": "markdown",
   "metadata": {},
   "source": [
    "### On missing forest imputed dataset\n",
    "We expected somewhat better performance on missing forest imputed data."
   ]
  },
  {
   "cell_type": "code",
   "execution_count": 14,
   "metadata": {},
   "outputs": [
    {
     "name": "stdout",
     "output_type": "stream",
     "text": [
      "ROC-AUC Score (no CV): 0.7111619764197022\n",
      "\n",
      "              precision    recall  f1-score   support\n",
      "\n",
      "         0.0       0.85      0.74      0.79     11753\n",
      "         1.0       0.51      0.68      0.59      4740\n",
      "\n",
      "    accuracy                           0.72     16493\n",
      "   macro avg       0.68      0.71      0.69     16493\n",
      "weighted avg       0.76      0.72      0.73     16493\n",
      "\n"
     ]
    },
    {
     "data": {
      "image/png": "[encoded data removed]",
      "text/plain": [
       "<Figure size 432x288 with 1 Axes>"
      ]
     },
     "metadata": {
      "needs_background": "light"
     },
     "output_type": "display_data"
    },
    {
     "name": "stdout",
     "output_type": "stream",
     "text": [
      "Training CV score: 0.9745\n",
      "Validation CV score: 0.7585\n"
     ]
    }
   ],
   "source": [
    "# XGBoost Classifier\n",
    "\n",
    "# Features and target are defined\n",
    "y = train_mf.default_ind.values\n",
    "X = train_mf.drop(['application_key', 'default_ind'], axis=1).values\n",
    "\n",
    "# Split into train and evaluation sets (80-20 split)\n",
    "X_train, X_val, y_train, y_val = train_test_split(X, y, test_size=0.2, stratify=y, random_state=123)\n",
    "\n",
    "# Model definiton and training\n",
    "model = XGBClassifier(n_estimators=200,\n",
    "                      max_depth=5,\n",
    "                      learning_rate=0.05,\n",
    "                      objective='binary:logistic',\n",
    "                      scale_pos_weight=2.4794,\n",
    "                      random_state=123)\n",
    "\n",
    "model.fit(X_train, y_train)\n",
    "\n",
    "# Prediction\n",
    "preds = model.predict(X_val)\n",
    "\n",
    "# Scoring\n",
    "score = roc_auc_score(y_val, preds)\n",
    "print(\"ROC-AUC Score (no CV): {}\".format(score))\n",
    "print('')\n",
    "print(classification_report(y_val, preds))\n",
    "\n",
    "# Show learning progress\n",
    "learn_progress(model, X, y, res=5, scoring='roc_auc', cv=2)"
   ]
  },
  {
   "cell_type": "markdown",
   "metadata": {},
   "source": [
    "## Training CNN over c-maps\n",
    "Over the c-maps generated in the EDA notebook, we will now train a network having convolution, max pooling and dense layers. This method is experimental, quality of results is not predictable. \n",
    "\n",
    "**Code not functional right now**"
   ]
  },
  {
   "cell_type": "code",
   "execution_count": 12,
   "metadata": {},
   "outputs": [],
   "source": [
    "# Get paths for all cmaps from directory\n",
    "\n",
    "img_paths = glob('/home/nishant/Desktop/IDA Project/cmaps/*.0')"
   ]
  },
  {
   "cell_type": "code",
   "execution_count": 13,
   "metadata": {},
   "outputs": [],
   "source": [
    "# Define the model class\n",
    "\n",
    "class Network(torch.nn.Module):\n",
    "    \n",
    "    def __init__(self):\n",
    "        super(Network, self).__init__()\n",
    "        \n",
    "        # Convolution layers\n",
    "        self.C1 = torch.nn.Conv2d(3, 8, 5)\n",
    "        self.C2 = torch.nn.Conv2d(8, 16, 3)\n",
    "        self.C3 = torch.nn.Conv2d(16, 32, 3)\n",
    "        self.C4 = torch.nn.Conv2d(32, 64, 3)\n",
    "        \n",
    "        # Max pooling layers\n",
    "        self.MP1 = torch.nn.MaxPool2d(2)\n",
    "        self.MP2 = torch.nn.MaxPool2d(2)\n",
    "        self.MP3 = torch.nn.MaxPool2d(4)\n",
    "        self.MP4 = torch.nn.MaxPool2d(2)\n",
    "        \n",
    "        # Linear layers \n",
    "        self.L1 = torch.nn.Linear(704, 128)\n",
    "        self.L2 = torch.nn.Linear(128, 32)\n",
    "        self.L3 = torch.nn.Linear(32, 8)\n",
    "        self.L4 = torch.nn.Linear(8, 1)\n",
    "        \n",
    "        # Activations\n",
    "        self.ReLU = torch.nn.ReLU()\n",
    "        self.Sigmoid = torch.nn.Sigmoid()\n",
    "        \n",
    "    \n",
    "    def forward(self, X):\n",
    "        \n",
    "        X = self.C1(X); X = self.MP1(X)\n",
    "        X = self.C2(X); X = self.MP2(X)\n",
    "        X = self.C3(X); X = self.MP3(X)\n",
    "        X = self.C4(X); X = self.MP4(X)\n",
    "        \n",
    "        X = X.view(X.size(0), -1)\n",
    "        X = self.L1(X); X = self.ReLU(X)\n",
    "        X = self.L2(X); X = self.ReLU(X)\n",
    "        X = self.L3(X); X = self.ReLU(X)\n",
    "        X = self.L4(X); X = self.Sigmoid(X)\n",
    "        \n",
    "        return X"
   ]
  },
  {
   "cell_type": "code",
   "execution_count": 14,
   "metadata": {},
   "outputs": [],
   "source": [
    "# Compile network and define loss \n",
    "\n",
    "net = Network()\n",
    "loss = torch.nn.CrossEntropyLoss()\n",
    "opt = torch.optim.SGD(net.parameters(), lr=1e-3)"
   ]
  },
  {
   "cell_type": "code",
   "execution_count": 15,
   "metadata": {},
   "outputs": [
    {
     "name": "stdout",
     "output_type": "stream",
     "text": [
      "Now processing 1999 of 2000\n"
     ]
    }
   ],
   "source": [
    "# Preparing training and validation data\n",
    "# Select 5000 images of each type\n",
    "\n",
    "root = '/home/nishant/Desktop/IDA Project/cmaps/'\n",
    "\n",
    "keys_0 = train.loc[train.default_ind==0, 'application_key'].values[:2000]\n",
    "targs_0 = np.zeros((2000, 1))\n",
    "imgs_0 = []\n",
    "    \n",
    "keys_1 = train.loc[train.default_ind==1, 'application_key'].values[:2000]\n",
    "targs_1 = np.ones((2000, 1))\n",
    "imgs_1 = []\n",
    "\n",
    "for i in range(len(keys_0)):\n",
    "    clear_output()\n",
    "    print(\"Now processing %d of %d\" % (i, len(keys_0)))\n",
    "    path_0, path_1 = root + str(keys_0[i]), root + str(keys_1[i])\n",
    "    img_0, img_1 = cv2.imread(path_0), cv2.imread(path_1)\n",
    "    img_0, img_1 = cv2.resize(img_0, (39, 25)), cv2.resize(img_1, (39, 25))\n",
    "    imgs_0.append(img_0)\n",
    "    imgs_1.append(img_1)"
   ]
  },
  {
   "cell_type": "code",
   "execution_count": 16,
   "metadata": {
    "scrolled": false
   },
   "outputs": [],
   "source": [
    "# Splitting 80-20 into training and evaluation\n",
    "# Then converting into torch tensors\n",
    "\n",
    "X_train = np.array(imgs_0[:1500] + imgs_1[:1500], dtype=np.float32)\n",
    "X_val = np.array(imgs_0[1500:] + imgs_1[1500:], dtype=np.float32)\n",
    "y_train = np.array(1500*[0] + 1500*[1], dtype=np.float32)\n",
    "y_val = np.array(500*[0] + 500*[1], dtype=np.float32)\n",
    "\n",
    "X_train = torch.tensor(X_train, dtype=torch.float32)\n",
    "X_val = torch.tensor(X_val, dtype=torch.float32)\n",
    "y_train = torch.tensor(y_train, dtype=torch.float32)\n",
    "y_val = torch.tensor(y_val, dtype=torch.float32)"
   ]
  }
 ],
 "metadata": {
  "kernelspec": {
   "display_name": "Python 3",
   "language": "python",
   "name": "python3"
  },
  "language_info": {
   "codemirror_mode": {
    "name": "ipython",
    "version": 3
   },
   "file_extension": ".py",
   "mimetype": "text/x-python",
   "name": "python",
   "nbconvert_exporter": "python",
   "pygments_lexer": "ipython3",
   "version": "3.6.8"
  }
 },
 "nbformat": 4,
 "nbformat_minor": 2
}
